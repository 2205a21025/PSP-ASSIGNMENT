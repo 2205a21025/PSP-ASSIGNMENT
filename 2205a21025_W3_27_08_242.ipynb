{
  "nbformat": 4,
  "nbformat_minor": 0,
  "metadata": {
    "colab": {
      "provenance": [],
      "authorship_tag": "ABX9TyODrhHtZINnWIJANzLEsRqe",
      "include_colab_link": true
    },
    "kernelspec": {
      "name": "python3",
      "display_name": "Python 3"
    },
    "language_info": {
      "name": "python"
    }
  },
  "cells": [
    {
      "cell_type": "markdown",
      "metadata": {
        "id": "view-in-github",
        "colab_type": "text"
      },
      "source": [
        "<a href=\"https://colab.research.google.com/github/2205a21025/PSP-ASSIGNMENT/blob/main/2205a21025_W3_27_08_242.ipynb\" target=\"_parent\"><img src=\"https://colab.research.google.com/assets/colab-badge.svg\" alt=\"Open In Colab\"/></a>"
      ]
    },
    {
      "cell_type": "code",
      "execution_count": 7,
      "metadata": {
        "colab": {
          "base_uri": "https://localhost:8080/"
        },
        "id": "Swos8yo9Yniu",
        "outputId": "a10d82c6-f8bd-4e97-a520-e2167dbd2d9c"
      },
      "outputs": [
        {
          "output_type": "stream",
          "name": "stdout",
          "text": [
            "Enter the rating of the transformer:5000\n",
            "Enter the Primary Voltage of the transformer:220\n",
            "Enter the Secondary Voltage of the transformer:440\n",
            "Enter the OC test voltage in volts:220\n",
            "Enter the OC test current in amps:2\n",
            "Enter the OC test power in watts:250\n",
            "Enter the SC test voltage in volts:75\n",
            "Enter the SC test current in amps:10\n",
            "Enter the SC test power in watts:500\n",
            "Enter the powerfactor of the transformer:1\n",
            "Enter the loading of the transformer in watts:1\n",
            "efficiency= 86.95652173913044\n",
            "RO= 193.6\n",
            "XO= 133.67309875319802\n",
            "RO1= 5.0\n",
            "XO1= 5.5901699437494745\n",
            "copper losses of transformer= 500.0\n"
          ]
        }
      ],
      "source": [
        "import transformerr\n",
        "\n",
        "Rating  = float(input(\"Enter the rating of the transformer:\"))\n",
        "Primary_voltage = float(input(\"Enter the Primary Voltage of the transformer:\"))\n",
        "Secondary_voltage = float(input(\"Enter the Secondary Voltage of the transformer:\"))\n",
        "vo = float(input(\"Enter the OC test voltage in volts:\"))\n",
        "io = float(input(\"Enter the OC test current in amps:\"))\n",
        "wo= float(input(\"Enter the OC test power in watts:\"))\n",
        "vsc = float(input(\"Enter the SC test voltage in volts:\"))\n",
        "isc = float(input(\"Enter the SC test current in amps:\"))\n",
        "wsc = float(input(\"Enter the SC test power in watts:\"))\n",
        "Pf = float(input(\"Enter the powerfactor of the transformer:\"))\n",
        "x = float(input(\"Enter the loading of the transformer in watts:\"))\n",
        "[ro,xo]=transformerr.oc(vo,io,wo)\n",
        "[rsc,xsc]=transformerr.sc(vsc,isc,wsc)\n",
        "[efficiency,copper]=transformerr.eff(Rating,wo,wsc,Pf,x)\n",
        "print(\"efficiency=\",efficiency)\n",
        "print(\"RO=\",ro)\n",
        "print(\"XO=\",xo)\n",
        "print(\"RO1=\",rsc)\n",
        "print(\"XO1=\",xsc)\n",
        "print(\"copper losses of transformer=\",copper)\n"
      ]
    }
  ]
}