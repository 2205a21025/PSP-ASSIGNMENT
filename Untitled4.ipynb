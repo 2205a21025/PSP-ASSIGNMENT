{
  "nbformat": 4,
  "nbformat_minor": 0,
  "metadata": {
    "colab": {
      "provenance": [],
      "authorship_tag": "ABX9TyNLUZqWT3waAKhAhQKuhvJ5",
      "include_colab_link": true
    },
    "kernelspec": {
      "name": "python3",
      "display_name": "Python 3"
    },
    "language_info": {
      "name": "python"
    }
  },
  "cells": [
    {
      "cell_type": "markdown",
      "metadata": {
        "id": "view-in-github",
        "colab_type": "text"
      },
      "source": [
        "<a href=\"https://colab.research.google.com/github/2205a21025/PSP-ASSIGNMENT/blob/main/Untitled4.ipynb\" target=\"_parent\"><img src=\"https://colab.research.google.com/assets/colab-badge.svg\" alt=\"Open In Colab\"/></a>"
      ]
    },
    {
      "cell_type": "code",
      "execution_count": 4,
      "metadata": {
        "id": "tZwKLdSrmlfa",
        "colab": {
          "base_uri": "https://localhost:8080/"
        },
        "outputId": "fc17a66d-ac87-48c6-9956-bafb6fe3eb50"
      },
      "outputs": [
        {
          "output_type": "stream",
          "name": "stdout",
          "text": [
            "['venkat', 'B.Tech', 2006, 'M.E.', 2011, 'Ph.D', 2018]\n",
            "venkat\n",
            "['B.Tech', 2006, 'M.E.', 2011, 'Ph.D', 2018]\n",
            "['B.Tech', 2006, 'M.E.', 2011]\n",
            "['venkat', 'B.Tech', 2006, 'M.E.', 2011, 'Ph.D', 2018, 'venkat', 'B.Tech', 2006, 'M.E.', 2011, 'Ph.D', 2018]\n",
            "[2018, 'Ph.D', 2011, 'M.E.', 2006, 'B.Tech', 'venkat']\n"
          ]
        }
      ],
      "source": [
        "Qualification=['venkat', 'B.Tech', 2006, 'M.E.', 2011, 'Ph.D', 2018]\n",
        "\n",
        "print (Qualification)\n",
        "\n",
        "print(Qualification[0])\n",
        "print(Qualification [1:])\n",
        "\n",
        "print(Qualification [1:5])\n",
        "\n",
        "print(Qualification * 2)\n",
        "print (Qualification[::-1])"
      ]
    },
    {
      "cell_type": "code",
      "source": [
        "\n",
        "Qualification=['venkat', 'B.Tech', 2006, 'Μ.Ε.', 2011, 'Ph.D', 2018]\n",
        "\n",
        "Experience=['SSCE', 2007, 'infosys', '2011', 'AITAM', '2013', 'SREC', '2018']\n",
        "\n",
        "CA=Qualification+Experience\n",
        "\n",
        "print(\"Qualification=\", Qualification)\n",
        "\n",
        "print(\"Experience=\", Experience)\n",
        "\n",
        "print(\"CA-\", CA)"
      ],
      "metadata": {
        "colab": {
          "base_uri": "https://localhost:8080/"
        },
        "id": "bccANqDHwOze",
        "outputId": "7017f742-d3c9-4ea7-f0fc-984834c97d2d"
      },
      "execution_count": 3,
      "outputs": [
        {
          "output_type": "stream",
          "name": "stdout",
          "text": [
            "Qualification= ['venkat', 'B.Tech', 2006, 'Μ.Ε.', 2011, 'Ph.D', 2018]\n",
            "Experience= ['SSCE', 2007, 'infosys', '2011', 'AITAM', '2013', 'SREC', '2018']\n",
            "CA- ['venkat', 'B.Tech', 2006, 'Μ.Ε.', 2011, 'Ph.D', 2018, 'SSCE', 2007, 'infosys', '2011', 'AITAM', '2013', 'SREC', '2018']\n"
          ]
        }
      ]
    },
    {
      "cell_type": "code",
      "source": [
        "\n",
        "list=['venkat', '1985']\n",
        "\n",
        "print('Venkat birth year', list[1])\n",
        "\n",
        "list[0]='dev'\n",
        "\n",
        "list[1]=2017\n",
        "\n",
        "print('dev birth year', list[1])"
      ],
      "metadata": {
        "colab": {
          "base_uri": "https://localhost:8080/"
        },
        "id": "banI6R_xzt6X",
        "outputId": "16a5e36a-3848-4f1d-d95e-01b53230d3f9"
      },
      "execution_count": 5,
      "outputs": [
        {
          "output_type": "stream",
          "name": "stdout",
          "text": [
            "Venkat birth year 1985\n",
            "dev birth year 2017\n"
          ]
        }
      ]
    },
    {
      "cell_type": "code",
      "source": [
        "\n",
        "list=['venkat', '1985']\n",
        "print(list)\n",
        "\n",
        "del list[1]\n",
        "\n",
        "print(list)\n"
      ],
      "metadata": {
        "colab": {
          "base_uri": "https://localhost:8080/"
        },
        "id": "sCOZOgfWzzQ_",
        "outputId": "1b73f97c-c769-4ffe-90d2-2c983cc8f8bf"
      },
      "execution_count": 6,
      "outputs": [
        {
          "output_type": "stream",
          "name": "stdout",
          "text": [
            "['venkat', '1985']\n",
            "['venkat']\n"
          ]
        }
      ]
    },
    {
      "cell_type": "code",
      "source": [
        "\n",
        "Name=['Ramana', 'Thanmai', 'Dev']\n",
        "DOB=[1985, 2014,2017]\n",
        "\n",
        "print('Number of peoples', len(Name))\n",
        "\n",
        "print('')\n",
        "\n",
        "Details=Name+DOB\n",
        "\n",
        "print(\"Biodata\", Details)\n",
        "\n",
        "print()\n",
        "\n",
        "Repetition=Name*2\n",
        "\n",
        "print(\"Repetition\", Repetition)\n",
        "\n",
        "print()\n",
        "\n",
        "for x in Name:\n",
        "\n",
        "          print(x)\n",
        "\n",
        "          print('')"
      ],
      "metadata": {
        "colab": {
          "base_uri": "https://localhost:8080/"
        },
        "id": "BdI5ozI1z6X-",
        "outputId": "9ed80e2b-0f9a-48b3-b372-b77e707dbe61"
      },
      "execution_count": 7,
      "outputs": [
        {
          "output_type": "stream",
          "name": "stdout",
          "text": [
            "Number of peoples 3\n",
            "\n",
            "Biodata ['Ramana', 'Thanmai', 'Dev', 1985, 2014, 2017]\n",
            "\n",
            "Repetition ['Ramana', 'Thanmai', 'Dev', 'Ramana', 'Thanmai', 'Dev']\n",
            "\n",
            "Ramana\n",
            "\n",
            "Thanmai\n",
            "\n",
            "Dev\n",
            "\n"
          ]
        }
      ]
    },
    {
      "cell_type": "code",
      "source": [
        "\n",
        "\n",
        "Name=['Ramana', 'Thanmai', 'Dev']\n",
        "\n",
        "DOB=[1985,2014,2017]\n",
        "\n",
        "print('Name with maximum charecters', max(Name))\n",
        "\n",
        "print('Younger person DOB', max(DOB))\n",
        "\n",
        "print('Name with minimum charecters', min (Name))\n",
        "\n",
        "print('Older person DOB', min (DOB))"
      ],
      "metadata": {
        "colab": {
          "base_uri": "https://localhost:8080/"
        },
        "id": "FvhFgDPcz_3-",
        "outputId": "33817a8f-ece3-4171-d99a-20589f819b28"
      },
      "execution_count": 8,
      "outputs": [
        {
          "output_type": "stream",
          "name": "stdout",
          "text": [
            "Name with maximum charecters Thanmai\n",
            "Younger person DOB 2017\n",
            "Name with minimum charecters Dev\n",
            "Older person DOB 1985\n"
          ]
        }
      ]
    },
    {
      "cell_type": "code",
      "source": [
        "\n",
        "atuple=('ramana', 1985, 'Thanmai', 2014)\n",
        "str='venkat'\n",
        "list1=(atuple)\n",
        "list2=(str)\n",
        "print(list1)\n",
        "print(list2)"
      ],
      "metadata": {
        "colab": {
          "base_uri": "https://localhost:8080/"
        },
        "id": "1pq9mkan0ERW",
        "outputId": "71620528-816b-42a9-c262-79797751d842"
      },
      "execution_count": 9,
      "outputs": [
        {
          "output_type": "stream",
          "name": "stdout",
          "text": [
            "('ramana', 1985, 'Thanmai', 2014)\n",
            "venkat\n"
          ]
        }
      ]
    },
    {
      "cell_type": "code",
      "source": [
        "\n",
        "Students=['ram', 'venkat']\n",
        "\n",
        "print(Students)\n",
        "\n",
        "Students.append('Dev')\n",
        "\n",
        "print (Students)"
      ],
      "metadata": {
        "colab": {
          "base_uri": "https://localhost:8080/"
        },
        "id": "P4ng9Pqs0LCW",
        "outputId": "34bc810d-b52e-42e1-d4cd-6f187d3daf01"
      },
      "execution_count": 11,
      "outputs": [
        {
          "output_type": "stream",
          "name": "stdout",
          "text": [
            "['ram', 'venkat']\n",
            "['ram', 'venkat', 'Dev']\n"
          ]
        }
      ]
    },
    {
      "cell_type": "code",
      "source": [
        "\n",
        "Grade=['A', 'A', 'B', 'C', 'A']\n",
        "\n",
        "print('How many peoples got A grade',Grade.count('A'))"
      ],
      "metadata": {
        "colab": {
          "base_uri": "https://localhost:8080/"
        },
        "id": "gOEiqQCh0SGn",
        "outputId": "fec02d1a-3476-4830-e46d-f98ff1b35a1e"
      },
      "execution_count": 12,
      "outputs": [
        {
          "output_type": "stream",
          "name": "stdout",
          "text": [
            "How many peoples got A grade 3\n"
          ]
        }
      ]
    },
    {
      "cell_type": "code",
      "source": [
        "Family=[\"Venkat\", \"Swetha\"]\n",
        "\n",
        "print('Family members', Family)\n",
        "atuple=('Dev','Thanmai')\n",
        "\n",
        "Family.extend(atuple)\n",
        "\n",
        "print('Family members', Family)"
      ],
      "metadata": {
        "colab": {
          "base_uri": "https://localhost:8080/"
        },
        "id": "isARykmA0Xqm",
        "outputId": "ba45a774-13f5-4a24-e117-bef05459ccc1"
      },
      "execution_count": 13,
      "outputs": [
        {
          "output_type": "stream",
          "name": "stdout",
          "text": [
            "Family members ['Venkat', 'Swetha']\n",
            "Family members ['Venkat', 'Swetha', 'Dev', 'Thanmai']\n"
          ]
        }
      ]
    },
    {
      "cell_type": "code",
      "source": [
        "Family=[\"Ramana\",\"Swetha\",\"Thanmai\",\"Dev\"]\n",
        "\n",
        "print(\"Family members\", Family)\n",
        "Family.remove(\"Ramana\")\n",
        "\n",
        "print('Family members', Family)"
      ],
      "metadata": {
        "colab": {
          "base_uri": "https://localhost:8080/"
        },
        "id": "pn2e1v180dHW",
        "outputId": "bf223ecf-e264-43c1-c821-03ad84d3998d"
      },
      "execution_count": 14,
      "outputs": [
        {
          "output_type": "stream",
          "name": "stdout",
          "text": [
            "Family members ['Ramana', 'Swetha', 'Thanmai', 'Dev']\n",
            "Family members ['Swetha', 'Thanmai', 'Dev']\n"
          ]
        }
      ]
    },
    {
      "cell_type": "code",
      "source": [
        "Family=[\"Ramana\", \"Swetha\", 'Thanmai', 'Dev']\n",
        "print('Family members', Family)\n",
        "\n",
        "Family.reverse()\n",
        "\n",
        "print('Family members', Family)"
      ],
      "metadata": {
        "colab": {
          "base_uri": "https://localhost:8080/"
        },
        "id": "6glZeeEs0kc_",
        "outputId": "a9fc2db9-f414-41a0-cd0f-0cba364d98d9"
      },
      "execution_count": 15,
      "outputs": [
        {
          "output_type": "stream",
          "name": "stdout",
          "text": [
            "Family members ['Ramana', 'Swetha', 'Thanmai', 'Dev']\n",
            "Family members ['Dev', 'Thanmai', 'Swetha', 'Ramana']\n"
          ]
        }
      ]
    },
    {
      "cell_type": "code",
      "source": [
        "Name=[\"Ranana\", \"Thanmai\", \"Dev\"]\n",
        "\n",
        "print('Family members', Name)\n",
        "Name.insert(1, 'Swetha')\n",
        "\n",
        "print('Family members',Name)"
      ],
      "metadata": {
        "colab": {
          "base_uri": "https://localhost:8080/"
        },
        "id": "z6kiEa4h0qr3",
        "outputId": "388273bd-e2c3-468b-e1ee-711e5d1aaed6"
      },
      "execution_count": 16,
      "outputs": [
        {
          "output_type": "stream",
          "name": "stdout",
          "text": [
            "Family members ['Ranana', 'Thanmai', 'Dev']\n",
            "Family members ['Ranana', 'Swetha', 'Thanmai', 'Dev']\n"
          ]
        }
      ]
    },
    {
      "cell_type": "code",
      "source": [
        "\n",
        "Family=['Ramana', \"Swetha\", \"Thanmal\", 'Dev']\n",
        "\n",
        "print(\"Family members\", Family)\n",
        "\n",
        "Family.pop()\n",
        "\n",
        "print('Family members', Family)\n",
        "\n",
        "Family.pop(2)\n",
        "\n",
        "print(\"Family members\", Family)"
      ],
      "metadata": {
        "colab": {
          "base_uri": "https://localhost:8080/"
        },
        "id": "7syMfDwR0sYo",
        "outputId": "d99da32b-ace9-4a09-fa7d-bb14f001885c"
      },
      "execution_count": 17,
      "outputs": [
        {
          "output_type": "stream",
          "name": "stdout",
          "text": [
            "Family members ['Ramana', 'Swetha', 'Thanmal', 'Dev']\n",
            "Family members ['Ramana', 'Swetha', 'Thanmal']\n",
            "Family members ['Ramana', 'Swetha']\n"
          ]
        }
      ]
    },
    {
      "cell_type": "code",
      "source": [
        "\n",
        "dict={}\n",
        "print(dict)\n",
        "dict['one']='This is one'\n",
        "print(dict)\n",
        "dict['2']='this is two'\n",
        "print(dict)\n",
        "print(dict.keys())\n",
        "print(dict.values())"
      ],
      "metadata": {
        "colab": {
          "base_uri": "https://localhost:8080/"
        },
        "id": "_Oh7wHWF0v3o",
        "outputId": "26323a4c-309e-4741-b6c6-2713119e1a7a"
      },
      "execution_count": 18,
      "outputs": [
        {
          "output_type": "stream",
          "name": "stdout",
          "text": [
            "{}\n",
            "{'one': 'This is one'}\n",
            "{'one': 'This is one', '2': 'this is two'}\n",
            "dict_keys(['one', '2'])\n",
            "dict_values(['This is one', 'this is two'])\n"
          ]
        }
      ]
    },
    {
      "cell_type": "code",
      "source": [
        "thisset={\"apple\",\"banana\",\"cherry\"}\n",
        "\n",
        "mylist= [\"kiwi\", \"orange\"]\n",
        "\n",
        "mylist_2=(2,3)\n",
        "\n",
        "mylist_3={\"Name\":\"Venkat\", \"School\": \"SRU\"}"
      ],
      "metadata": {
        "id": "uxdtH7w10zqv"
      },
      "execution_count": 21,
      "outputs": []
    },
    {
      "cell_type": "code",
      "source": [
        "thisset = {\"apple\", \"banana\", \"cherry\"}\n",
        "\n",
        "for x in thisset:\n",
        "\n",
        "    print(x)"
      ],
      "metadata": {
        "colab": {
          "base_uri": "https://localhost:8080/"
        },
        "id": "cw9dxI7y073v",
        "outputId": "72811872-f971-4397-d6f5-d081d1651c14"
      },
      "execution_count": 22,
      "outputs": [
        {
          "output_type": "stream",
          "name": "stdout",
          "text": [
            "apple\n",
            "banana\n",
            "cherry\n"
          ]
        }
      ]
    }
  ]
}