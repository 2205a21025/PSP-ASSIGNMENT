{
  "nbformat": 4,
  "nbformat_minor": 0,
  "metadata": {
    "colab": {
      "provenance": [],
      "authorship_tag": "ABX9TyNpeD8ifyLNtzZsiG/VG7hx",
      "include_colab_link": true
    },
    "kernelspec": {
      "name": "python3",
      "display_name": "Python 3"
    },
    "language_info": {
      "name": "python"
    }
  },
  "cells": [
    {
      "cell_type": "markdown",
      "metadata": {
        "id": "view-in-github",
        "colab_type": "text"
      },
      "source": [
        "<a href=\"https://colab.research.google.com/github/2205a21025/PSP-ASSIGNMENT/blob/main/Untitled1.ipynb\" target=\"_parent\"><img src=\"https://colab.research.google.com/assets/colab-badge.svg\" alt=\"Open In Colab\"/></a>"
      ]
    },
    {
      "cell_type": "code",
      "source": [
        "Rating=float(input(\"Enter the Rating of transformer in Voltamphere = \"))\n",
        "pf=float(input(\"Enter the power factor of transformer = \"))\n",
        "loading=float(input(\"Enter the loading of transformer = \"))\n",
        "copper_losses=float(input(\"Enter the Full load copper losses of transformer in Watts = \"))\n",
        "core_losses=float(input(\"Enter the core losses of Transformer in Watts = \"))\n",
        "Cu_losses=(copper_losses)*(loading*2)\n",
        "print(\"copper losses of transformer at loading =\",Cu_losses)\n",
        "efficiency=(((loading)*Rating*pf)/((loading*Rating*pf)+core_losses+Cu_losses))*100\n",
        "print(\"Efficiency of transformer =\",efficiency,\"%\")\n",
        "import math\n",
        "Max_efficiency=math.sqrt(core_losses/copper_losses)\n",
        "print(\"Load at where maximum efficiency = \",Max_efficiency)"
      ],
      "metadata": {
        "colab": {
          "base_uri": "https://localhost:8080/"
        },
        "id": "GwmvcbVIkgDJ",
        "outputId": "876cded8-b022-4191-a6b2-c6312370f6ea"
      },
      "execution_count": null,
      "outputs": [
        {
          "output_type": "stream",
          "name": "stdout",
          "text": [
            "Enter the Rating of transformer in Voltamphere = 5000\n",
            "Enter the power factor of transformer = 1\n",
            "Enter the loading of transformer = 1\n",
            "Enter the Full load copper losses of transformer in Watts = 800\n",
            "Enter the core losses of Transformer in Watts = 100\n",
            "copper losses of transformer at loading = 1600.0\n",
            "Efficiency of transformer = 74.6268656716418 %\n",
            "Load at where maximum efficiency =  0.3535533905932738\n"
          ]
        }
      ]
    },
    {
      "cell_type": "code",
      "execution_count": null,
      "metadata": {
        "id": "Sbqi0OyMj539"
      },
      "outputs": [],
      "source": []
    }
  ]
}